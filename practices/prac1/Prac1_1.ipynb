{
  "nbformat": 4,
  "nbformat_minor": 0,
  "metadata": {
    "colab": {
      "provenance": []
    },
    "kernelspec": {
      "name": "python3",
      "display_name": "Python 3"
    },
    "language_info": {
      "name": "python"
    }
  },
  "cells": [
    {
      "cell_type": "markdown",
      "source": [
        "# RL basics\n",
        "\n",
        "Термины и понятия:\n",
        "\n",
        "- агент/среда\n",
        "- наблюдение $o$ / состояние $s$\n",
        "- действие $a$, стратегия $\\pi: \\pi(s) \\rightarrow a$ функция перехода $T: T(s, a) \\rightarrow s'$\n",
        "- вознаграждение $r$, ф-я вознаграждений $R: R(s, a) \\rightarrow r$\n",
        "- цикл взаимодействия, траектория $\\tau: (s_0, a_0, r_0, s_1, a_1, r_1, ..., s_T, a_T, r_T)$, эпизод\n",
        "- отдача $G$, подсчет отдачи, средняя[/ожидаемая] отдача $\\mathbb{E}[G]$"
      ],
      "metadata": {
        "id": "k4NMHBq16Y_g"
      }
    },
    {
      "cell_type": "code",
      "source": [
        "try:\n",
        "    import google.colab\n",
        "    COLAB = True\n",
        "except ModuleNotFoundError:\n",
        "    COLAB = False\n",
        "    pass\n",
        "\n",
        "if COLAB:\n",
        "    !pip -q install \"gymnasium[classic-control, atari, accept-rom-license]\"\n",
        "    !pip -q install piglet\n",
        "    !pip -q install imageio_ffmpeg\n",
        "    !pip -q install moviepy==1.0.3"
      ],
      "metadata": {
        "id": "MoNP7Wdn6aP0",
        "colab": {
          "base_uri": "https://localhost:8080/"
        },
        "outputId": "81694139-4f56-4172-b7d6-f31d3f1fd8df"
      },
      "execution_count": 1,
      "outputs": [
        {
          "output_type": "stream",
          "name": "stdout",
          "text": [
            "\u001b[33mWARNING: gymnasium 1.2.0 does not provide the extra 'accept-rom-license'\u001b[0m\u001b[33m\n",
            "\u001b[2K   \u001b[90m━━━━━━━━━━━━━━━━━━━━━━━━━━━━━━━━━━━━━━━━\u001b[0m \u001b[32m67.5/67.5 kB\u001b[0m \u001b[31m2.1 MB/s\u001b[0m eta \u001b[36m0:00:00\u001b[0m\n",
            "\u001b[?25h"
          ]
        }
      ]
    },
    {
      "cell_type": "code",
      "source": [
        "import glob\n",
        "import io\n",
        "import base64\n",
        "import gymnasium as gym\n",
        "import numpy as np\n",
        "from IPython import display as ipythondisplay\n",
        "from IPython.display import HTML\n",
        "import matplotlib.pyplot as plt\n",
        "%matplotlib inline"
      ],
      "metadata": {
        "id": "9JPaLF5v6esZ"
      },
      "execution_count": 2,
      "outputs": []
    },
    {
      "cell_type": "markdown",
      "source": [
        "## Agent, environment\n",
        "\n",
        "<img src=https://gymnasium.farama.org/_images/lunar_lander.gif caption=\"lunar lander\" width=\"150\" height=\"50\"><img src=https://gymnasium.farama.org/_images/mountain_car.gif caption=\"mountain car\" width=\"150\" height=\"50\">\n",
        "<img src=https://gymnasium.farama.org/_images/cliff_walking.gif caption=\"cliff walking\" width=\"300\" height=\"50\">\n",
        "<img src=https://ale.farama.org/_images/montezuma_revenge.gif caption=\"montezuma revenge\" width=\"150\" height=\"100\">\n",
        "<img src=https://github.com/danijar/crafter/raw/main/media/video.gif caption=\"crafter\" width=\"150\" height=\"100\">\n",
        "<img src=https://camo.githubusercontent.com/6df2ca438d8fe8aa7a132b859315147818c54af608f8609320c3c20e938acf48/68747470733a2f2f6d656469612e67697068792e636f6d2f6d656469612f344e78376759694d394e44724d724d616f372f67697068792e676966 caption=\"malmo minecraft\" width=\"150\" height=\"100\">\n",
        "<img src=https://images.ctfassets.net/kftzwdyauwt9/e0c0947f-1a44-4528-4a41450a9f0a/2d0e85871d58d02dbe01b2469d693d4a/table-03.gif caption=\"roboschool\" width=\"150\" height=\"100\">\n",
        "<img src=https://raw.githubusercontent.com/Tviskaron/mipt/master/2019/RL/02/mdp.png caption=\"Марковский процесс принятия решений\" width=\"150\" height=\"100\">\n",
        "<img src=https://minigrid.farama.org/_images/DoorKeyEnv.gif caption=\"minigrid\" width=\"120\" height=\"120\">"
      ],
      "metadata": {
        "id": "OGAoJeNF6hJO"
      }
    },
    {
      "cell_type": "markdown",
      "source": [
        "## Observation, state\n",
        "\n",
        "TODO:\n",
        "- добавить примеры наблюдений/состояний (числа, векторы, картинки)\n",
        "- интуитивное объяснение различия, положить пока, что наблюдение = состояние\n",
        "- пространство состояний\n",
        "\n",
        "\n",
        "В каждый момент времени среда имеет некоторое внутреннее состояние. Здесь слово \"состояние\" я употребил скорее в интуитивном понимании, чтобы обозначить, что среда изменчива (иначе какой смысл с ней взаимодействовать, если ничего не меняется). В обучении с подкреплением под термином состояние $s$ (или $s_t$, где $t$ — текущее время) подразумевают либо абстрактно информацию о \"состоянии\" среды, либо ее явное представление в виде данных, достаточные для полного описания \"состояния\". *NB: Здесь можно провести аналогию с компьютерными играми — файл сохранения игры как раз содержит информацию о \"состоянии\" мира игры, чтобы в будущем можно было продолжить с текущей точки, так что данные этого файла в целом можно с некоторой натяжкой считать состоянием (с натяжкой, потому что редко когда в сложных играх файлы сохранения содержат прямо вот всю информацию, так что после перезагрузки вы получите не совсем точную копию). При этом обычно подразумевается, что состояние не содержит в себе ничего лишнего, то есть это **минимальный** набор информации.*\n",
        "\n",
        "Наблюдением $o$ называют то, что агент \"видит\" о текущем состоянии среды. Это не обязательно зрение, а вообще вся доступная ему информация (условно, со всех его органов чувств).\n",
        "\n",
        "В общем случае наблюдение: кортеж/словарь многомерных векторов чисел."
      ],
      "metadata": {
        "id": "dcyLKga76mA_"
      }
    },
    {
      "cell_type": "code",
      "source": [
        "print(gym.make(\"CartPole-v0\").reset()[0].shape)\n",
        "print(gym.make(\"MountainCar-v0\").reset()[0].shape)"
      ],
      "metadata": {
        "id": "ypHv9w6i6pcX",
        "colab": {
          "base_uri": "https://localhost:8080/"
        },
        "outputId": "65b483ca-1fc4-4492-f765-2dbc65fce81d"
      },
      "execution_count": 3,
      "outputs": [
        {
          "output_type": "stream",
          "name": "stdout",
          "text": [
            "(4,)\n",
            "(2,)\n"
          ]
        },
        {
          "output_type": "stream",
          "name": "stderr",
          "text": [
            "/usr/local/lib/python3.12/dist-packages/gymnasium/envs/registration.py:512: DeprecationWarning: \u001b[33mWARN: The environment CartPole-v0 is out of date. You should consider upgrading to version `v1`.\u001b[0m\n",
            "  logger.deprecation(\n"
          ]
        }
      ]
    },
    {
      "cell_type": "markdown",
      "source": [
        "## Action, policy, transition function\n",
        "\n",
        "Рассмотрим следующие MDP:\n",
        "\n",
        "- A: <img src=https://i.ibb.co/mrCMVZLQ/mdp-a.png caption=\"A\" width=\"400\" height=\"100\">\n",
        "- B: <img src=https://i.ibb.co/GQ2tVtjC/mdp-b.png caption=\"B\" width=\"400\" height=\"100\">\n",
        "\n",
        "Links to all:\n",
        "[A](https://i.ibb.co/mrCMVZLQ/mdp-a.png)\n",
        "[B](https://i.ibb.co/GQ2tVtjC/mdp-b.png)\n",
        "[C](https://i.ibb.co/Jj9LYHjP/mdp-c.png)\n",
        "[D](https://i.ibb.co/Y47Mr83b/mdp-d.png)\n",
        "[E](https://i.ibb.co/Kjt1Xhmf/mdp-e.png)\n",
        "\n",
        "Давайте явно запишем пространства состояний $S$ и действий $A$, а также функцию перехода $T$ среды."
      ],
      "metadata": {
        "id": "GabuCLcJ67lb"
      }
    },
    {
      "cell_type": "code",
      "source": [
        "states = set(range(3))\n",
        "actions = set(range(1))\n",
        "\n",
        "print(f'{states=} | {actions=}')\n",
        "\n",
        "T = {\n",
        "    (0, 0): 1,\n",
        "    (1, 0): 2,\n",
        "    (2, 0): 2\n",
        "}\n",
        "print(f'Transition function {T=}')\n",
        "\n",
        "A_mdp = states, actions, T"
      ],
      "metadata": {
        "id": "4XpqNc_o6_CS",
        "colab": {
          "base_uri": "https://localhost:8080/"
        },
        "outputId": "e57019b5-1eb2-460b-c37a-d045c89b7898"
      },
      "execution_count": 4,
      "outputs": [
        {
          "output_type": "stream",
          "name": "stdout",
          "text": [
            "states={0, 1, 2} | actions={0}\n",
            "Transition function T={(0, 0): 1, (1, 0): 2, (2, 0): 2}\n"
          ]
        }
      ]
    },
    {
      "cell_type": "markdown",
      "source": [
        "Попробуйте записать функцию перехода в матричном виде:"
      ],
      "metadata": {
        "id": "KlqB4WcZ7CDK"
      }
    },
    {
      "cell_type": "code",
      "source": [
        "import numpy as np\n",
        "T_matrix = np.matrix([\n",
        "    [0, 1, 0],\n",
        "    [0, 0, 1],\n",
        "    [0, 0, 1]\n",
        "])"
      ],
      "metadata": {
        "id": "jmg8hnng7EnJ"
      },
      "execution_count": 5,
      "outputs": []
    },
    {
      "cell_type": "markdown",
      "source": [
        "Как получить вероятность нахождения агента в состоянии (1) через N шагов? Что происходит с вероятностями нахождения в состояниях при $N \\rightarrow \\infty$"
      ],
      "metadata": {
        "id": "_FPshg_07G0R"
      }
    },
    {
      "cell_type": "code",
      "source": [
        "N = 10\n",
        "T_N = np.linalg.matrix_power(T_matrix, N)\n",
        "state_1_prob = T_N[0, 1]\n",
        "state_1_prob"
      ],
      "metadata": {
        "id": "9pwc4Atn7IAf",
        "colab": {
          "base_uri": "https://localhost:8080/"
        },
        "outputId": "0228f1fd-bd23-432a-c284-540446e5da29"
      },
      "execution_count": 6,
      "outputs": [
        {
          "output_type": "execute_result",
          "data": {
            "text/plain": [
              "np.int64(0)"
            ]
          },
          "metadata": {},
          "execution_count": 6
        }
      ]
    },
    {
      "cell_type": "markdown",
      "source": [
        "Задайте еще несколько MDP:\n",
        "\n",
        "- C: <img src=https://i.ibb.co/Jj9LYHjP/mdp-c.png caption=\"C\" width=\"400\" height=\"100\">"
      ],
      "metadata": {
        "id": "p52R04np7Ku0"
      }
    },
    {
      "cell_type": "code",
      "source": [
        "#B\n",
        "states = set(range(4))\n",
        "actions = set(range(3))\n",
        "\n",
        "print(f'{states=} | {actions=}')\n",
        "\n",
        "T = {\n",
        "    (0, 0): 1,\n",
        "    (0, 1): 2,\n",
        "    (1, 2): 3,\n",
        "}\n",
        "print(f'Transition function {T=}')\n",
        "T_matrix = np.matrix([\n",
        "    [0, 1/3, 1/3, 1/3],\n",
        "    [0, 1, 0, 0],\n",
        "    [0, 0, 1, 0],\n",
        "    [0, 0, 0, 1]\n",
        "])\n",
        "N = 10\n",
        "T_N = np.linalg.matrix_power(T_matrix, N)\n",
        "print(T_N)\n",
        "state_1_prob = T_N[0, 1]\n",
        "state_1_prob"
      ],
      "metadata": {
        "colab": {
          "base_uri": "https://localhost:8080/"
        },
        "id": "mogBP0GlpUvs",
        "outputId": "c1a1d366-c775-4985-b13d-b0a4f8f971e1"
      },
      "execution_count": 7,
      "outputs": [
        {
          "output_type": "stream",
          "name": "stdout",
          "text": [
            "states={0, 1, 2, 3} | actions={0, 1, 2}\n",
            "Transition function T={(0, 0): 1, (0, 1): 2, (1, 2): 3}\n",
            "[[0.         0.33333333 0.33333333 0.33333333]\n",
            " [0.         1.         0.         0.        ]\n",
            " [0.         0.         1.         0.        ]\n",
            " [0.         0.         0.         1.        ]]\n"
          ]
        },
        {
          "output_type": "execute_result",
          "data": {
            "text/plain": [
              "np.float64(0.3333333333333333)"
            ]
          },
          "metadata": {},
          "execution_count": 7
        }
      ]
    },
    {
      "cell_type": "code",
      "source": [
        "#C\n",
        "print(\"C\")\n",
        "states = set(range(4))\n",
        "actions = set(range(2))\n",
        "\n",
        "print(f'{states=} | {actions=}')\n",
        "\n",
        "T = {\n",
        "    (0, 0): 1,\n",
        "    (0, 1): 2,\n",
        "    (1, 0): 1,\n",
        "    (1, 1): 3,\n",
        "    (2, 0): 3,\n",
        "    (2, 1): 2\n",
        "}\n",
        "print(f'Transition function {T=}')\n",
        "T_matrix = np.matrix([\n",
        "    [0, 0.5, 0.5, 0],\n",
        "    [0, 0.5, 0, 0.5],\n",
        "    [0, 0, 0.5, 0.5],\n",
        "    [0, 0, 0, 1]\n",
        "])\n",
        "N = 10\n",
        "T_N = np.linalg.matrix_power(T_matrix, N)\n",
        "print(T_N)\n",
        "state_1_prob = T_N[0, 1]\n",
        "state_1_prob"
      ],
      "metadata": {
        "id": "JSdJ9ZsI7Nfw",
        "colab": {
          "base_uri": "https://localhost:8080/"
        },
        "outputId": "dae6de11-c487-459a-8cc2-6f111949849b"
      },
      "execution_count": 8,
      "outputs": [
        {
          "output_type": "stream",
          "name": "stdout",
          "text": [
            "C\n",
            "states={0, 1, 2, 3} | actions={0, 1}\n",
            "Transition function T={(0, 0): 1, (0, 1): 2, (1, 0): 1, (1, 1): 3, (2, 0): 3, (2, 1): 2}\n",
            "[[0.00000000e+00 9.76562500e-04 9.76562500e-04 9.98046875e-01]\n",
            " [0.00000000e+00 9.76562500e-04 0.00000000e+00 9.99023438e-01]\n",
            " [0.00000000e+00 0.00000000e+00 9.76562500e-04 9.99023438e-01]\n",
            " [0.00000000e+00 0.00000000e+00 0.00000000e+00 1.00000000e+00]]\n"
          ]
        },
        {
          "output_type": "execute_result",
          "data": {
            "text/plain": [
              "np.float64(0.0009765625)"
            ]
          },
          "metadata": {},
          "execution_count": 8
        }
      ]
    },
    {
      "cell_type": "markdown",
      "source": [
        "Давайте попробуем задать двух агентов: случайного и оптимального (для каждой среды свой)."
      ],
      "metadata": {
        "id": "AiU5X4DH7TaG"
      }
    },
    {
      "cell_type": "code",
      "source": [
        "class Agent:\n",
        "    def __init__(self, actions):\n",
        "        self.rng = np.random.default_rng()\n",
        "        self.actions = np.array(list(actions))\n",
        "\n",
        "    def act(self, state):\n",
        "        return self.rng.integers(len(self.actions))"
      ],
      "metadata": {
        "id": "It2waXJi7WWN"
      },
      "execution_count": 9,
      "outputs": []
    },
    {
      "cell_type": "markdown",
      "source": [
        "В качестве дополнения, запишите стратегию агента"
      ],
      "metadata": {
        "id": "VH6uo4EP7ZqB"
      }
    },
    {
      "cell_type": "code",
      "source": [
        "class OptimAgent:\n",
        "    def __init__(self, actions):\n",
        "        self.actions = np.array(list(actions))\n",
        "        self.states\n",
        "\n",
        "    def act(self, state):\n",
        "        if state+1 in self.states:\n",
        "            return state+1\n",
        "        elif state+2 in self.states:\n",
        "            return state+2"
      ],
      "metadata": {
        "id": "t68c_r-W7asH"
      },
      "execution_count": 14,
      "outputs": []
    },
    {
      "cell_type": "markdown",
      "source": [
        "## Reward, reward function\n",
        "\n",
        "Теперь добавим произвольную функцию вознаграждения. Например, для A:"
      ],
      "metadata": {
        "id": "XGx2-KeH7lL4"
      }
    },
    {
      "cell_type": "code",
      "source": [
        "R = {\n",
        "    (0, 0): -0.1,\n",
        "    (1, 0): 1.0,\n",
        "    (2, 0): 0.0\n",
        "}\n",
        "print(R)\n",
        "\n",
        "A_mdp = *A_mdp, R\n",
        "print(A_mdp)"
      ],
      "metadata": {
        "id": "fk7umEnA7oFv",
        "colab": {
          "base_uri": "https://localhost:8080/"
        },
        "outputId": "faba05fa-60f2-47f3-c4f0-7486afc5bf46"
      },
      "execution_count": 11,
      "outputs": [
        {
          "output_type": "stream",
          "name": "stdout",
          "text": [
            "{(0, 0): -0.1, (1, 0): 1.0, (2, 0): 0.0}\n",
            "({0, 1, 2}, {0}, {(0, 0): 1, (1, 0): 2, (2, 0): 2}, {(0, 0): -0.1, (1, 0): 1.0, (2, 0): 0.0})\n"
          ]
        }
      ]
    },
    {
      "cell_type": "markdown",
      "source": [
        "## Interaction loop, trajectory, termination, truncation, episode\n",
        "\n",
        "Общий цикл взаимодействия в рамках эпизода:\n",
        "1. Инициализировать среду: $s \\leftarrow \\text{env.init()}$\n",
        "2. Цикл:\n",
        "    - выбрать действие: $a \\leftarrow \\pi(s)$\n",
        "    - получить ответ от среды: $s, r, d \\leftarrow \\text{env.next(a)}$\n",
        "    - если $d == \\text{True}$, выйти из цикла"
      ],
      "metadata": {
        "id": "j92TZ1l67rVh"
      }
    },
    {
      "cell_type": "code",
      "source": [
        "def run_episode(mdp):\n",
        "    states, actions, T, R = mdp\n",
        "    agent = Agent(actions)\n",
        "\n",
        "    s = 0\n",
        "    tau = []\n",
        "    for _ in range(5):\n",
        "        a = agent.act(s)\n",
        "        s_next = T[(s, a)]\n",
        "        r = R[(s, a)]\n",
        "\n",
        "        tau.append((s, a, r))\n",
        "        s = s_next\n",
        "\n",
        "    return tau\n",
        "\n",
        "run_episode(A_mdp)"
      ],
      "metadata": {
        "id": "MRPZACJt7vG8",
        "colab": {
          "base_uri": "https://localhost:8080/"
        },
        "outputId": "8b8e81da-0fe6-4815-c686-5c6f634be63a"
      },
      "execution_count": 12,
      "outputs": [
        {
          "output_type": "execute_result",
          "data": {
            "text/plain": [
              "[(0, np.int64(0), -0.1),\n",
              " (1, np.int64(0), 1.0),\n",
              " (2, np.int64(0), 0.0),\n",
              " (2, np.int64(0), 0.0),\n",
              " (2, np.int64(0), 0.0)]"
            ]
          },
          "metadata": {},
          "execution_count": 12
        }
      ]
    },
    {
      "cell_type": "markdown",
      "source": [
        "Termination — означает окончание эпизода, когда достигнуто терминальное состояние. Является частью задания среды.\n",
        "\n",
        "Truncation — означает окончание эпизода, когда достигнут лимит по числу шагов (=времени). Обычно является внешне заданным параметром для удобства обучения.\n",
        "\n",
        "Пока не будем вводить truncation, но поддержим termination: расширьте определение среды информацией о терминальных состояниях для всех описанных ранее сред. Сгенерируйте по несколько случайных траекторий для каждой среды."
      ],
      "metadata": {
        "id": "wbGEr8kl7xnS"
      }
    },
    {
      "cell_type": "code",
      "source": [
        "terminations_states = [2]\n",
        "def run_another_episode(mdp):\n",
        "    states, actions, T, R = mdp\n",
        "    agent = Agent(actions)\n",
        "\n",
        "    s = 0\n",
        "    tau = []\n",
        "    for _ in range(5):\n",
        "        a = agent.act(s)\n",
        "        s_next = T[(s, a)]\n",
        "        r = R[(s, a)]\n",
        "\n",
        "        tau.append((s, a, r))\n",
        "        s = s_next\n",
        "        if s_next in terminations_states:\n",
        "            break\n",
        "\n",
        "    return tau\n",
        "\n",
        "run_episode(A_mdp)"
      ],
      "metadata": {
        "colab": {
          "base_uri": "https://localhost:8080/"
        },
        "id": "xuqo9xoOtBie",
        "outputId": "74385ded-6e14-48d6-e7a4-34315f214bb4"
      },
      "execution_count": 15,
      "outputs": [
        {
          "output_type": "execute_result",
          "data": {
            "text/plain": [
              "[(0, np.int64(0), -0.1),\n",
              " (1, np.int64(0), 1.0),\n",
              " (2, np.int64(0), 0.0),\n",
              " (2, np.int64(0), 0.0),\n",
              " (2, np.int64(0), 0.0)]"
            ]
          },
          "metadata": {},
          "execution_count": 15
        }
      ]
    },
    {
      "cell_type": "markdown",
      "source": [
        "### Return, expected return\n",
        "\n",
        "Наиболее важная метрика оценки качества работы агента: отдача.\n",
        "\n",
        "Отдача: $G(s_t) = \\sum_{i=t}^T r_i$\n",
        "\n",
        "Обычно также вводят параметр $\\gamma \\in [0, 1]$, дисконтирующий будущие вознаграждения. А еще, тк отдача может меняться от запуска к запуску благодаря вероятностным процессам, нас интересует отдача в среднем — ожидаемая отдача:\n",
        "\n",
        "$$\\hat{G}(s_t) = \\mathbb{E} [ \\sum_{i=t}^T \\gamma^{i-t} r_i ]$$\n",
        "\n",
        "Именно ее и оптимизируют в RL.\n",
        "\n",
        "Давайте научимся считать отдачу для состояний по траектории и считать среднюю отдачу."
      ],
      "metadata": {
        "id": "lxHNM9kS74WW"
      }
    },
    {
      "cell_type": "code",
      "source": [
        "def count_G(r_array, gamma=1.0):\n",
        "    res = 0\n",
        "    for i, r in enumerate(r_array):\n",
        "        res += gamma ** i * r\n",
        "    return res\n",
        "\n",
        "count_G(r_array=[r[2] for r in run_another_episode(A_mdp)])"
      ],
      "metadata": {
        "id": "scdThsNA8T2B",
        "colab": {
          "base_uri": "https://localhost:8080/"
        },
        "outputId": "cab2d2ab-82fa-4901-c52d-fd8b45283817"
      },
      "execution_count": 20,
      "outputs": [
        {
          "output_type": "execute_result",
          "data": {
            "text/plain": [
              "0.9"
            ]
          },
          "metadata": {},
          "execution_count": 20
        }
      ]
    },
    {
      "cell_type": "markdown",
      "source": [
        "Про ожидаемую отдачу:\n",
        "$$\\hat{G}(s_t) = \\mathbb{E} [ \\sum_{i=t}^T \\gamma^{i-t} r_i ] = \\sum_{i=t}^T \\gamma^{i-t}\\mathbb{E}[r_i]$$\n",
        "Матожидание ищем так же, как искали распределение в марковском процессе, только со скалядрным произведением по наградам в каждом состоянии\n",
        "$$\\mathbb{E}[r_n] = <(P^n)^T * v, r>$$\n",
        "(P - матрица переходов)"
      ],
      "metadata": {
        "id": "DeRmA63wjcqY"
      }
    },
    {
      "cell_type": "code",
      "source": [
        "def count_waitung_G(P, n, v, r, gamma=1):\n",
        "    res = 0\n",
        "    for t in range(n):\n",
        "        y = np.transpose(np.linalg.matrix_power(P, n)) @ v\n",
        "        res += gamma ** t * float(np.dot(y, r))\n",
        "    return res\n",
        "\n",
        "count_waitung_G(P=T_matrix, n=5, v=(1, 0, 0, 0), r=(0, 1, -0.1, 0))"
      ],
      "metadata": {
        "colab": {
          "base_uri": "https://localhost:8080/"
        },
        "id": "fOxZppHIltGe",
        "outputId": "191a6e0f-4d59-4672-f71d-21d48c67445e"
      },
      "execution_count": 24,
      "outputs": [
        {
          "output_type": "stream",
          "name": "stderr",
          "text": [
            "/tmp/ipython-input-2391482486.py:5: DeprecationWarning: Conversion of an array with ndim > 0 to a scalar is deprecated, and will error in future. Ensure you extract a single element from your array before performing this operation. (Deprecated NumPy 1.25.)\n",
            "  res += gamma ** t * float(np.dot(y, r))\n"
          ]
        },
        {
          "output_type": "execute_result",
          "data": {
            "text/plain": [
              "0.140625"
            ]
          },
          "metadata": {},
          "execution_count": 24
        }
      ]
    }
  ]
}